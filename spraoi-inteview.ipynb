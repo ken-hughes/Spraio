{
 "cells": [
  {
   "cell_type": "markdown",
   "metadata": {},
   "source": [
    "# Implement a function to query json_schema\n",
    "\n",
    "The goal of this excercise is to implement a function that allows you to query the type of a keypath in a jsonschema. This function will accept a valid jsonschema (https://json-schema.org/specification.html) as dict, a key_path (eg: `foo.bar.baz`) and return the `type` of the property. \n",
    "\n",
    "Note:\n",
    "\n",
    "1. There are only two fields in the schema you have to pay attention to: `properties` and `definitions`.\n",
    "2. if the dictionary associated with the field has a field named `$ref` it means that its refering to another schema stored under the top level schema. You have follow the link to get to the actual definition. \n",
    "3. For the sake of this excercise you can assume that all values for `$ref` will start wiht `#/<key_path>`.\n",
    "4. You should see a schema and some assert statements under \"Test\" section. You should NOT have to change anything under the \"Test\" section. If you can get our code to pass the tests, then it means your function works as expected.\n",
    "\n",
    "Feel free to use whatever libraries you need to use except any libraries that actually allow you to query the jsonschema"
   ]
  },
  {
   "cell_type": "code",
   "execution_count": null,
   "metadata": {},
   "outputs": [],
   "source": [
    "def get_type_for_key_path(schema: dict, key_path: str) -> str: \n",
    "    # TODO implement me\n",
    "    pass\n",
    "\n",
    "    "
   ]
  },
  {
   "cell_type": "markdown",
   "metadata": {},
   "source": [
    "# Test"
   ]
  },
  {
   "cell_type": "code",
   "execution_count": null,
   "metadata": {},
   "outputs": [],
   "source": [
    "import json\n",
    "\n",
    "schema = json.loads('''{\n",
    "  \"$id\": \"https://example.com/nested-schema.json\",\n",
    "  \"title\": \"nested-schema\",\n",
    "  \"$schema\": \"http://json-schema.org/draft-07/schema#\",\n",
    "  \"required\": [\n",
    "    \"EmploymentInformation\",\n",
    "    \"EmployeePartyID\",\n",
    "    \"Age\"\n",
    "  ],\n",
    "  \"properties\": {\n",
    "    \"EmployeePartyID\": {\n",
    "      \"type\": \"string\",\n",
    "      \"minLength\": 1,\n",
    "      \"maxLength\": 3\n",
    "    },\n",
    "    \"EmploymentInformation\": {\n",
    "      \"$ref\": \"#/definitions/EmploymentInformation\"\n",
    "    },\n",
    "    \"Age\": {\n",
    "      \"type\": \"integer\",\n",
    "      \"minimum\": 16,\n",
    "      \"maximum\": 80\n",
    "    }\n",
    "  },\n",
    "  \"definitions\": {\n",
    "    \"EmploymentInformation\": {\n",
    "      \"type\": \"object\",\n",
    "      \"required\": [\n",
    "        \"OriginalHireDate\"\n",
    "      ],\n",
    "      \"properties\": {\n",
    "        \"OriginalHireDate\": {\n",
    "          \"type\": \"string\",\n",
    "          \"format\": \"date\"\n",
    "        },\n",
    "        \"Beneficiary\": {\n",
    "          \"$ref\": \"#/definitions/DependantInformation\"\n",
    "        }\n",
    "      }\n",
    "    },\n",
    "    \"DependantInformation\": {\n",
    "      \"type\": \"object\",\n",
    "      \"required\": [\n",
    "        \"Name\"\n",
    "      ],\n",
    "      \"properties\": {\n",
    "        \"Name\": {\n",
    "          \"type\": \"string\",\n",
    "          \"minLength\": 5\n",
    "        }\n",
    "      }\n",
    "    }\n",
    "  },\n",
    "  \"description\": \"nested-schema\"\n",
    "}''')\n",
    "\n",
    "assert(get_type_for_key_path(schema, \"Age\") == \"integer\")\n",
    "assert(get_type_for_key_path(schema, \"EmploymentInformation.OriginalHireDate\") == \"string\")\n",
    "assert(get_type_for_key_path(schema, \"EmploymentInformation.Beneficiary.Name\") == \"string\")\n",
    "assert(get_type_for_key_path(schema, \"foo.bar\") == None)"
   ]
  }
 ],
 "metadata": {
  "kernelspec": {
   "display_name": "Python 3",
   "language": "python",
   "name": "python3"
  },
  "language_info": {
   "codemirror_mode": {
    "name": "ipython",
    "version": 3
   },
   "file_extension": ".py",
   "mimetype": "text/x-python",
   "name": "python",
   "nbconvert_exporter": "python",
   "pygments_lexer": "ipython3",
   "version": "3.7.3"
  }
 },
 "nbformat": 4,
 "nbformat_minor": 2
}
